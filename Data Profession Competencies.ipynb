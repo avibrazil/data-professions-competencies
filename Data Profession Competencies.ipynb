{
 "cells": [
  {
   "cell_type": "markdown",
   "metadata": {},
   "source": [
    "# Data Professions × Data Competencies\n",
    "\n",
    "— Avi Alkalay, Data Scientist\n",
    "\n",
    "Generates a diagram that maps data-related professions to data-related competencies, as seen at the end of this notebook.\n",
    "\n",
    "This was reconstructed by me from a slide shown by Julia Tessler, data scientist at iFood.\n",
    "\n",
    "Represents what iFood expects from data professionals."
   ]
  },
  {
   "cell_type": "code",
   "execution_count": null,
   "metadata": {},
   "outputs": [],
   "source": [
    "import pandas as pd\n",
    "import matplotlib\n",
    "import matplotlib.pyplot as plt\n",
    "from math import pi\n",
    "%matplotlib inline\n",
    "%config InlineBackend.figure_formats = ['svg']"
   ]
  },
  {
   "cell_type": "code",
   "execution_count": null,
   "metadata": {},
   "outputs": [],
   "source": [
    "# competencies = pd.read_csv('data.csv')\n",
    "# competencies.rename(columns={'Unnamed: 0': \"competencies\"},inplace=True)\n",
    "# competencies.set_index('competencies', inplace=True)\n",
    "# competencies.replace(to_replace=r'.00\\%$', value='', regex=True, inplace=True)\n",
    "# competencies=competencies.apply(pd.to_numeric)\n",
    "# competencies/=10"
   ]
  },
  {
   "cell_type": "markdown",
   "metadata": {},
   "source": [
    "Here is the data to build the diagram"
   ]
  },
  {
   "cell_type": "code",
   "execution_count": null,
   "metadata": {},
   "outputs": [],
   "source": [
    "dataCompetencies = {\n",
    "    'Data Analyst': {\n",
    "        'Domain Knowledge': 10,\n",
    "        'Statistics': 5,\n",
    "        'Advanced Math': 3,\n",
    "        'Software Engineering': 3,\n",
    "        'Data Infrastructure': 2,\n",
    "        'Data Wrangling': 8,\n",
    "        'Communication & Visualization': 10\n",
    "    },\n",
    "    'Data Engineer': {\n",
    "        'Domain Knowledge': 7,\n",
    "        'Statistics': 3,\n",
    "        'Advanced Math': 2,\n",
    "        'Software Engineering': 9,\n",
    "        'Data Infrastructure': 10,\n",
    "        'Data Wrangling': 10,\n",
    "        'Communication & Visualization': 3\n",
    "    },\n",
    "    'Data Scientist': {\n",
    "        'Domain Knowledge': 7,\n",
    "        'Statistics': 10,\n",
    "        'Advanced Math': 10,\n",
    "        'Software Engineering': 7,\n",
    "        'Data Infrastructure': 4,\n",
    "        'Data Wrangling': 8,\n",
    "        'Communication & Visualization': 7\n",
    "    },\n",
    "    'Avi': {\n",
    "        'Domain Knowledge': 7,\n",
    "        'Statistics': 8,\n",
    "        'Advanced Math': 8,\n",
    "        'Software Engineering': 10,\n",
    "        'Data Infrastructure': 10,\n",
    "        'Data Wrangling': 10,\n",
    "        'Communication & Visualization': 8\n",
    "    }\n",
    "\n",
    "}\n",
    "\n",
    "index=pd.Index([\n",
    "    'Domain Knowledge',\n",
    "    'Statistics',\n",
    "    'Advanced Math',\n",
    "    'Software Engineering',\n",
    "    'Data Infrastructure',\n",
    "    'Data Wrangling',\n",
    "    'Communication & Visualization'\n",
    "])"
   ]
  },
  {
   "cell_type": "code",
   "execution_count": null,
   "metadata": {},
   "outputs": [],
   "source": [
    "competencies=pd.DataFrame(dataCompetencies, index=index)\n",
    "competencies"
   ]
  },
  {
   "cell_type": "code",
   "execution_count": null,
   "metadata": {},
   "outputs": [],
   "source": [
    "competencies.describe()"
   ]
  },
  {
   "cell_type": "markdown",
   "metadata": {},
   "source": [
    "Here is a generic function to generate the desired diagram."
   ]
  },
  {
   "cell_type": "code",
   "execution_count": null,
   "metadata": {},
   "outputs": [],
   "source": [
    "def spiderWeb(df=None):\n",
    "    # ------- PART 1: Create background\n",
    "\n",
    "    # number of variables\n",
    "    categories=df.shape[0]\n",
    "\n",
    "    # What will be the angle of each axis in the plot? (we divide the plot / number of variable)\n",
    "    angles = [ 2 * pi * n / float(categories) for n in range(categories)]\n",
    "    angles += angles[:1]\n",
    "\n",
    "    # Initialise the spider plot\n",
    "    ax = plt.axes(polar=True)\n",
    "\n",
    "    # If you want the first axis to be on top:\n",
    "    ax.set_theta_offset(pi / 2)\n",
    "    ax.set_theta_direction(-1)\n",
    "\n",
    "    # Draw one axe per variable + add labels labels yet\n",
    "    plt.xticks(angles[:-1], df.index)\n",
    "\n",
    "    # Draw ylabels\n",
    "    ax.set_rlabel_position(0)\n",
    "    plt.yticks(range(df.max().max()+1), range(df.max().max()+1), color=\"grey\", size=7)\n",
    "    plt.ylim(0,df.max().max())\n",
    "\n",
    "\n",
    "    # ------- PART 2: Add plots\n",
    "\n",
    "    # Plot each individual = each line of the data\n",
    "    # I don't do a loop, because plotting more than 3 groups makes the chart unreadable\n",
    "\n",
    "    for c in df.columns:\n",
    "        values = df[c].tolist()\n",
    "        values += values[:1]\n",
    "        \n",
    "        label = \"{label} (μ={mean}, σ={deviation})\".format(\n",
    "            label=c,\n",
    "            mean=round(df[c].mean(),2),\n",
    "            deviation=round(df[c].std(),2)\n",
    "        )\n",
    "        \n",
    "        ax.plot(angles, values, linewidth=1, linestyle='solid', label=label)\n",
    "        ax.fill(angles, values, alpha=0.1)\n",
    "\n",
    "    # Add legend\n",
    "#     plt.legend(loc='lower right', bbox_to_anchor=(0.1, 0.1))\n",
    "    plt.legend(bbox_to_anchor=(0.1, 0.1))"
   ]
  },
  {
   "cell_type": "code",
   "execution_count": null,
   "metadata": {},
   "outputs": [],
   "source": [
    "spiderWeb(competencies)"
   ]
  },
  {
   "cell_type": "markdown",
   "metadata": {},
   "source": [
    "# Visual manipulation\n",
    "\n",
    "As you can see, matplotlib graph doesn't have a very nice layout. So I took its SVG output and instrumented it in Inkscape. Here is the result (which can also be seen on the SVG file part of this repository):\n",
    "\n",
    "<img src=\"Data Profession Competencies.svg\"/>"
   ]
  }
 ],
 "metadata": {
  "kernelspec": {
   "display_name": "Python 3",
   "language": "python",
   "name": "python3"
  },
  "language_info": {
   "codemirror_mode": {
    "name": "ipython",
    "version": 3
   },
   "file_extension": ".py",
   "mimetype": "text/x-python",
   "name": "python",
   "nbconvert_exporter": "python",
   "pygments_lexer": "ipython3",
   "version": "3.7.3"
  }
 },
 "nbformat": 4,
 "nbformat_minor": 2
}
